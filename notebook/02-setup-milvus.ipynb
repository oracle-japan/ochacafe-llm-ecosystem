{
 "cells": [
  {
   "cell_type": "code",
   "execution_count": null,
   "metadata": {},
   "outputs": [],
   "source": [
    "import os\n",
    "import glob\n",
    "import numpy as np\n",
    "from dotenv import load_dotenv\n",
    "from pymilvus import MilvusClient, DataType\n",
    "from oci.auth.signers import InstancePrincipalsSecurityTokenSigner\n",
    "from oci.generative_ai_inference.generative_ai_inference_client import GenerativeAiInferenceClient\n",
    "from oci.generative_ai_inference.models import EmbedTextDetails, OnDemandServingMode\n",
    "from langchain_text_splitters import CharacterTextSplitter"
   ]
  },
  {
   "cell_type": "code",
   "execution_count": null,
   "metadata": {},
   "outputs": [],
   "source": [
    "load_dotenv()\n",
    "\n",
    "uri = os.getenv(\"MILVUS_URI\")\n",
    "compartment_id = os.getenv(\"COMPARTMENT_ID\")\n",
    "endpoint = os.getenv(\"GENAI_ENDPOINT\")\n",
    "embedding_batch_size=96\n",
    "collection_name=\"ochacafe_collection\"\n",
    "\n",
    "client = MilvusClient(uri=uri)\n",
    "generative_ai_inference_client = GenerativeAiInferenceClient(config={}, signer=InstancePrincipalsSecurityTokenSigner(), service_endpoint=endpoint)"
   ]
  },
  {
   "cell_type": "code",
   "execution_count": null,
   "metadata": {},
   "outputs": [],
   "source": [
    "client.describe_collection(collection_name=collection_name)\n",
    "client.drop_collection(collection_name=collection_name)"
   ]
  },
  {
   "cell_type": "code",
   "execution_count": null,
   "metadata": {},
   "outputs": [],
   "source": [
    "schema = MilvusClient.create_schema(\n",
    "    auto_id=True,\n",
    "    enable_dynamic_field=True,\n",
    ")\n",
    "\n",
    "schema.add_field(field_name=\"id\", datatype=DataType.INT64, is_primary=True)\n",
    "schema.add_field(field_name=\"vector\", datatype=DataType.FLOAT_VECTOR, dim=1024)\n",
    "\n",
    "client.create_collection(\n",
    "    collection_name=collection_name,\n",
    "    dimension=1024,\n",
    "    schema=schema\n",
    ")"
   ]
  },
  {
   "cell_type": "code",
   "execution_count": null,
   "metadata": {},
   "outputs": [],
   "source": [
    "def embedding(inputs: list[str]) -> list[float]:\n",
    "    res = generative_ai_inference_client.embed_text(\n",
    "        embed_text_details=EmbedTextDetails(\n",
    "            compartment_id=compartment_id,\n",
    "            inputs=inputs,\n",
    "            input_type=\"SEARCH_DOCUMENT\",\n",
    "            serving_mode=OnDemandServingMode(\n",
    "                model_id=\"cohere.embed-multilingual-v3.0\"\n",
    "            )\n",
    "        )\n",
    "    )\n",
    "    if res.status != 200:\n",
    "        print(\"Something went wrong.\")\n",
    "        exit()\n",
    "    embeddings = res.data.embeddings\n",
    "    return embeddings"
   ]
  },
  {
   "cell_type": "code",
   "execution_count": null,
   "metadata": {},
   "outputs": [],
   "source": [
    "def create_data_by_character_text_splitter(content: str) -> list[dict]:\n",
    "    text_splitter = CharacterTextSplitter(\n",
    "        separator=\"\\n\",\n",
    "        chunk_size=500,\n",
    "        chunk_overlap=200,\n",
    "        length_function=len,\n",
    "        is_separator_regex=False,\n",
    "    )\n",
    "    texts = text_splitter.create_documents([content])\n",
    "    inputs = [text.page_content for text in texts]\n",
    "    if len(inputs) > embedding_batch_size:\n",
    "        vectors = []\n",
    "        inputs_ary = np.array_split(inputs, len(inputs)//embedding_batch_size + 1)\n",
    "        for input in inputs_ary:\n",
    "            vectors.extend(embedding(inputs=input.tolist()))\n",
    "    else:\n",
    "        vectors = embedding(inputs=inputs)\n",
    "    data = [\n",
    "        {\"vector\": vectors[i], \"text\": inputs[i], \"subject\": \"technology\"} # enabled auto-id\n",
    "        for i in range(len(vectors))\n",
    "    ]\n",
    "    return data"
   ]
  },
  {
   "cell_type": "code",
   "execution_count": null,
   "metadata": {},
   "outputs": [],
   "source": [
    "def insert_data(data: dict | list[dict]) -> dict:\n",
    "    res = client.insert(\n",
    "        collection_name=collection_name,\n",
    "        data=data\n",
    "    )\n",
    "    return res"
   ]
  },
  {
   "cell_type": "code",
   "execution_count": null,
   "metadata": {},
   "outputs": [],
   "source": [
    "files = glob.glob(\"../data/text/*.txt\")\n",
    "for file in files:\n",
    "    with open(file) as f:\n",
    "        content = f.read()\n",
    "        data = create_data_by_character_text_splitter(content)\n",
    "        _ = insert_data(data)"
   ]
  },
  {
   "cell_type": "code",
   "execution_count": null,
   "metadata": {},
   "outputs": [],
   "source": [
    "index_params = MilvusClient.prepare_index_params()\n",
    "\n",
    "index_params.add_index(\n",
    "    field_name=\"vector\",\n",
    "    metric_type=\"COSINE\",\n",
    "    index_type=\"IVF_FLAT\",\n",
    "    index_name=\"vector_index\",\n",
    "    params={ \"nlist\": 128 }\n",
    ")\n",
    "\n",
    "client.create_index(\n",
    "    collection_name=collection_name,\n",
    "    index_params=index_params\n",
    ")"
   ]
  },
  {
   "cell_type": "code",
   "execution_count": null,
   "metadata": {},
   "outputs": [],
   "source": [
    "client.load_collection(collection_name=collection_name)\n",
    "res = client.get_load_state(collection_name=collection_name)\n",
    "print(\"load state: \", res)"
   ]
  },
  {
   "cell_type": "code",
   "execution_count": null,
   "metadata": {},
   "outputs": [],
   "source": [
    "query_vectors = embedding([\"OCHaCafeとはなんですか？\"])\n",
    "\n",
    "res = client.search(\n",
    "    collection_name=\"ochacafe_collection\",\n",
    "    data=query_vectors,\n",
    "    limit=3,\n",
    "    output_fields=[\"text\", \"subject\"]\n",
    ")\n",
    "\n",
    "print(res)"
   ]
  }
 ],
 "metadata": {
  "kernelspec": {
   "display_name": ".venv",
   "language": "python",
   "name": "python3"
  },
  "language_info": {
   "codemirror_mode": {
    "name": "ipython",
    "version": 3
   },
   "file_extension": ".py",
   "mimetype": "text/x-python",
   "name": "python",
   "nbconvert_exporter": "python",
   "pygments_lexer": "ipython3",
   "version": "3.11.7"
  }
 },
 "nbformat": 4,
 "nbformat_minor": 2
}
