{
 "cells": [
  {
   "cell_type": "markdown",
   "metadata": {},
   "source": [
    "# 03-getting-started-langfuse\n",
    "\n",
    "Langfuse の基本事項を試すためのノートブックです。"
   ]
  },
  {
   "cell_type": "code",
   "execution_count": null,
   "metadata": {},
   "outputs": [],
   "source": [
    "import os\n",
    "from dotenv import load_dotenv\n",
    "from operator import itemgetter\n",
    "\n",
    "from langchain_cohere import ChatCohere\n",
    "from langchain_community.llms.oci_generative_ai import OCIGenAI\n",
    "from langchain.prompts import ChatPromptTemplate\n",
    "from langchain.schema import StrOutputParser\n",
    "from langchain_core.messages import HumanMessage, ChatMessage\n",
    "\n",
    "from langfuse import Langfuse\n",
    "from langfuse.callback import CallbackHandler"
   ]
  },
  {
   "cell_type": "code",
   "execution_count": null,
   "metadata": {},
   "outputs": [],
   "source": [
    "load_dotenv()\n",
    "\n",
    "# Cohere\n",
    "api_key = os.getenv(\"COHERE_API_KEY\")\n",
    "\n",
    "# OCI\n",
    "compartment_id = os.getenv(\"COMPARTMENT_ID\")\n",
    "endpoint = os.getenv(\"GENAI_ENDPOINT\")\n",
    "# Langfuse\n",
    "secret_key = os.getenv(\"LANGFUSE_SECRET_KEY\")\n",
    "public_key = os.getenv(\"LANGFUSE_PUBLIC_KEY\")\n",
    "langfuse_host = os.getenv(\"LANGFUSE_HOST\")\n",
    "\n",
    "langfuse_handler = CallbackHandler(\n",
    "    secret_key=secret_key,\n",
    "    public_key=public_key,\n",
    "    host=langfuse_host\n",
    ")"
   ]
  },
  {
   "cell_type": "markdown",
   "metadata": {},
   "source": [
    "## Tracing"
   ]
  },
  {
   "cell_type": "markdown",
   "metadata": {},
   "source": [
    "### OCI Generative AI Service\n",
    "\n",
    "OCI Generative AI Service を LangChain から操作する場合は、Langfuse の CallbackHandler に対応していないので、モンキーパッチを適用する"
   ]
  },
  {
   "cell_type": "code",
   "execution_count": null,
   "metadata": {},
   "outputs": [],
   "source": [
    "def get_model_name(self):\n",
    "    return self.model_id"
   ]
  },
  {
   "cell_type": "code",
   "execution_count": null,
   "metadata": {},
   "outputs": [],
   "source": [
    "OCIGenAI.model_name = property(get_model_name)"
   ]
  },
  {
   "cell_type": "code",
   "execution_count": null,
   "metadata": {},
   "outputs": [],
   "source": [
    "oci_genai_client = OCIGenAI(\n",
    "    auth_type=\"API_KEY\",\n",
    "    auth_profile=\"CHICAGO\",\n",
    "    model_id=\"cohere.command\",\n",
    "    compartment_id=compartment_id,\n",
    "    service_endpoint=endpoint,\n",
    "    model_kwargs={\n",
    "        \"max_tokens\": 512\n",
    "    }\n",
    ")"
   ]
  },
  {
   "cell_type": "code",
   "execution_count": null,
   "metadata": {},
   "outputs": [],
   "source": [
    "messages = [HumanMessage(content=\"OCHaCafeとはなんですか？\")]\n",
    "res = oci_genai_client.invoke(messages, config={\"callbacks\": [langfuse_handler]})\n",
    "print(res)"
   ]
  },
  {
   "cell_type": "code",
   "execution_count": null,
   "metadata": {},
   "outputs": [],
   "source": [
    "prompt1 = ChatPromptTemplate.from_template(\"What is the city {person} is from?\")\n",
    "prompt2 = ChatPromptTemplate.from_template(\"What country is the city {city} in? respond in {language}\")\n",
    "\n",
    "chain1 = prompt1 | oci_genai_client | StrOutputParser()\n",
    "chain2 = (\n",
    "    {\"city\": chain1, \"language\": itemgetter(\"language\")}\n",
    "    | prompt2\n",
    "    | oci_genai_client\n",
    "    | StrOutputParser()\n",
    ")\n",
    "\n",
    "chain2.invoke({\"person\": \"obama\", \"language\": \"Spanish\"}, config={\"callbacks\": [langfuse_handler]})"
   ]
  },
  {
   "cell_type": "markdown",
   "metadata": {},
   "source": [
    "## Cohere"
   ]
  },
  {
   "cell_type": "code",
   "execution_count": null,
   "metadata": {},
   "outputs": [],
   "source": [
    "chat = ChatCohere(\n",
    "    model=\"command-r-plus\",\n",
    "    cohere_api_key=api_key\n",
    ")"
   ]
  },
  {
   "cell_type": "code",
   "execution_count": null,
   "metadata": {},
   "outputs": [],
   "source": [
    "messages = [HumanMessage(content=\"OCHaCafeとはなんですか？\")]\n",
    "res = chat.invoke(messages, config={\"callbacks\": [langfuse_handler]})\n",
    "print(res)"
   ]
  },
  {
   "cell_type": "code",
   "execution_count": null,
   "metadata": {},
   "outputs": [],
   "source": [
    "prompt1 = ChatPromptTemplate.from_template(\"What is the city {person} is from?\")\n",
    "prompt2 = ChatPromptTemplate.from_template(\"What country is the city {city} in? respond in {language}\")\n",
    "\n",
    "chain1 = prompt1 | chat | StrOutputParser()\n",
    "chain2 = (\n",
    "    {\"city\": chain1, \"language\": itemgetter(\"language\")}\n",
    "    | prompt2\n",
    "    | chat\n",
    "    | StrOutputParser()\n",
    ")\n",
    "\n",
    "chain2.invoke({\"person\": \"obama\", \"language\": \"Japanese\"}, config={\"callbacks\": [langfuse_handler]})"
   ]
  },
  {
   "cell_type": "markdown",
   "metadata": {},
   "source": [
    "## Score"
   ]
  },
  {
   "cell_type": "markdown",
   "metadata": {},
   "source": [
    "### OCI Generative AI"
   ]
  },
  {
   "cell_type": "code",
   "execution_count": null,
   "metadata": {},
   "outputs": [],
   "source": [
    "messages = [HumanMessage(content=\"OCHaCafeとはなんですか？\")]\n",
    "res = oci_genai_client.invoke(messages, config={\"callbacks\": [langfuse_handler]})\n",
    "print(res)"
   ]
  },
  {
   "cell_type": "code",
   "execution_count": null,
   "metadata": {},
   "outputs": [],
   "source": [
    "trace_id = langfuse_handler.get_trace_id()\n",
    "print(\"trace_id: \", trace_id)"
   ]
  },
  {
   "cell_type": "code",
   "execution_count": null,
   "metadata": {},
   "outputs": [],
   "source": [
    "# Add score\n",
    "langfuse = Langfuse(\n",
    "    secret_key=secret_key,\n",
    "    public_key=public_key,\n",
    "    host=langfuse_host\n",
    ")\n",
    "\n",
    "trace = langfuse.score(\n",
    "    trace_id=trace_id,\n",
    "    value=0.1,\n",
    "    name=\"user-feedback\",\n",
    "    comment=\"be contrary to fact\"\n",
    ")"
   ]
  }
 ],
 "metadata": {
  "kernelspec": {
   "display_name": ".venv",
   "language": "python",
   "name": "python3"
  },
  "language_info": {
   "codemirror_mode": {
    "name": "ipython",
    "version": 3
   },
   "file_extension": ".py",
   "mimetype": "text/x-python",
   "name": "python",
   "nbconvert_exporter": "python",
   "pygments_lexer": "ipython3",
   "version": "3.11.7"
  }
 },
 "nbformat": 4,
 "nbformat_minor": 2
}
