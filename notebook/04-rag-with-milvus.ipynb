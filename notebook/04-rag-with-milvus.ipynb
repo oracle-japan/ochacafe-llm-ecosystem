{
 "cells": [
  {
   "cell_type": "markdown",
   "metadata": {},
   "source": [
    "# 04-rag-with-milvus\n",
    "\n",
    "Milvus と LangChain を用いて簡易的な RAG 構成を実現します。"
   ]
  },
  {
   "cell_type": "code",
   "execution_count": null,
   "metadata": {},
   "outputs": [],
   "source": [
    "import os\n",
    "from dotenv import load_dotenv\n",
    "import uuid\n",
    "\n",
    "from langchain_cohere.chat_models import ChatCohere\n",
    "from langchain_cohere.embeddings import CohereEmbeddings\n",
    "from langchain_milvus import Milvus\n",
    "from langchain_core.runnables import RunnablePassthrough\n",
    "from langchain_core.prompts import ChatPromptTemplate, PromptTemplate\n",
    "from langchain_core.output_parsers import StrOutputParser\n",
    "\n",
    "from langfuse import Langfuse\n",
    "from langfuse.callback import CallbackHandler"
   ]
  },
  {
   "cell_type": "code",
   "execution_count": null,
   "metadata": {},
   "outputs": [],
   "source": [
    "_ = load_dotenv()\n",
    "\n",
    "# Cohere\n",
    "cohere_api_key = os.getenv(\"COHERE_API_KEY\")\n",
    "# Langfuse\n",
    "secret_key = os.getenv(\"LANGFUSE_SECRET_KEY\")\n",
    "public_key = os.getenv(\"LANGFUSE_PUBLIC_KEY\")\n",
    "langfuse_host = os.getenv(\"LANGFUSE_HOST\")\n",
    "# Milvus\n",
    "uri = os.getenv(\"MILVUS_URI\")\n",
    "collection_name = os.getenv(\"COLLECTION_NAME\")\n",
    "\n",
    "embed = CohereEmbeddings(cohere_api_key=cohere_api_key, model=\"embed-multilingual-v3.0\")\n",
    "milvus = Milvus(\n",
    "    embedding_function=embed,\n",
    "    collection_name=collection_name,\n",
    "    connection_args={\"uri\": uri}\n",
    ")\n",
    "langfuse = Langfuse(\n",
    "    secret_key=secret_key,\n",
    "    public_key=public_key,\n",
    "    host=langfuse_host\n",
    ")\n",
    "langfuse_handler = CallbackHandler(\n",
    "    secret_key=secret_key,\n",
    "    public_key=public_key,\n",
    "    host=langfuse_host\n",
    ")\n",
    "\n",
    "preamble = langfuse.get_prompt(name=\"demo-preamble\", type=\"text\")\n",
    "\n",
    "chat = ChatCohere(\n",
    "    cohere_api_key=cohere_api_key,\n",
    "    max_tokens=500,\n",
    "    temperature=0.3,\n",
    "    k=0,\n",
    "    p=0.75,\n",
    "    frequency_penalty=0.0,\n",
    "    presence_penalty=0.0,\n",
    "    preamble=preamble.prompt\n",
    ")"
   ]
  },
  {
   "cell_type": "code",
   "execution_count": null,
   "metadata": {},
   "outputs": [],
   "source": [
    "prompt_template = PromptTemplate.from_template(\n",
    "    langfuse.get_prompt(name=\"demo-user-prompt\", type=\"text\").prompt,\n",
    "    template_format=\"jinja2\"\n",
    ")\n",
    "\n",
    "retriever = milvus.as_retriever()\n",
    "\n",
    "chain = (\n",
    "    {\"question\": RunnablePassthrough(), \"context\": retriever}\n",
    "    | prompt_template\n",
    "    | chat\n",
    "    | StrOutputParser()\n",
    ")\n",
    "\n",
    "response = chain.stream(\n",
    "    \"おちゃかふぇってなんですか？\",\n",
    "    config={\"callbacks\": [langfuse_handler], \"configurable\": {\"session_id\": str(uuid.uuid4())}},\n",
    ")\n",
    "\n",
    "for chunk in response:\n",
    "    print(chunk, end=\"\")"
   ]
  }
 ],
 "metadata": {
  "kernelspec": {
   "display_name": ".venv",
   "language": "python",
   "name": "python3"
  },
  "language_info": {
   "codemirror_mode": {
    "name": "ipython",
    "version": 3
   },
   "file_extension": ".py",
   "mimetype": "text/x-python",
   "name": "python",
   "nbconvert_exporter": "python",
   "pygments_lexer": "ipython3",
   "version": "3.11.7"
  }
 },
 "nbformat": 4,
 "nbformat_minor": 2
}
