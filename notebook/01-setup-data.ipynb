{
 "cells": [
  {
   "cell_type": "markdown",
   "metadata": {},
   "source": [
    "# 01-setup-data\n",
    "\n",
    "このノートブックは、RAG(Retrieval Augumented Generation) に使用するデータソースを Web 上の記事からスクレイピングするためのものです。\n",
    "本デモでは、[OCHaCafe Digest (ThinkIT)](https://thinkit.co.jp/series/10728) と [OCHaCafe Digest 2 (ThinkIT)](https://thinkit.co.jp/series/11131) を対象としています。"
   ]
  },
  {
   "cell_type": "code",
   "execution_count": 3,
   "metadata": {},
   "outputs": [],
   "source": [
    "import requests\n",
    "from bs4 import BeautifulSoup"
   ]
  },
  {
   "cell_type": "code",
   "execution_count": 4,
   "metadata": {},
   "outputs": [],
   "source": [
    "thinkit_base = \"https://thinkit.co.jp\""
   ]
  },
  {
   "cell_type": "code",
   "execution_count": 5,
   "metadata": {},
   "outputs": [],
   "source": [
    "def get_content(url: str, data: str) -> str:\n",
    "    res = requests.get(url)\n",
    "    soup = BeautifulSoup(res.content, \"html.parser\")\n",
    "    content = soup.find(\"div\", class_=\"field field-name-body field-type-text-with-summary field-label-hidden\")\n",
    "    data = f\"{data} {content.get_text()}\"\n",
    "    has_next_page = soup.select_one(\"li.pager-next\")\n",
    "    if has_next_page:\n",
    "        url = f\"{thinkit_base}{has_next_page.find('a').get('href')}\"\n",
    "        data = f\"{data} {get_content(url=url, data=data)}\"\n",
    "    return data"
   ]
  },
  {
   "cell_type": "code",
   "execution_count": 2,
   "metadata": {},
   "outputs": [],
   "source": [
    "ochacafe_digests = [\n",
    "    \"https://thinkit.co.jp/article/20858\",\n",
    "    \"https://thinkit.co.jp/article/21142\",\n",
    "    \"https://thinkit.co.jp/article/21407\",\n",
    "    \"https://thinkit.co.jp/article/21709\",\n",
    "    \"https://thinkit.co.jp/article/21975\",\n",
    "    \"https://thinkit.co.jp/article/22179\",\n",
    "    \"https://thinkit.co.jp/article/22616\",\n",
    "    \"https://thinkit.co.jp/article/22684\",\n",
    "    \"https://thinkit.co.jp/article/22781\",\n",
    "    \"https://thinkit.co.jp/article/22861\",\n",
    "    \"https://thinkit.co.jp/article/22941\",\n",
    "    \"https://thinkit.co.jp/article/23041\"\n",
    "]"
   ]
  },
  {
   "cell_type": "code",
   "execution_count": 8,
   "metadata": {},
   "outputs": [],
   "source": [
    "contents = []\n",
    "counter = 1\n",
    "for url in ochacafe_digests:\n",
    "    data = get_content(url=url, data=\"\")\n",
    "    with open(f\"../data/text/{counter}.txt\", \"x\") as file:\n",
    "        file.write(data)\n",
    "        counter += 1"
   ]
  }
 ],
 "metadata": {
  "kernelspec": {
   "display_name": ".venv",
   "language": "python",
   "name": "python3"
  },
  "language_info": {
   "codemirror_mode": {
    "name": "ipython",
    "version": 3
   },
   "file_extension": ".py",
   "mimetype": "text/x-python",
   "name": "python",
   "nbconvert_exporter": "python",
   "pygments_lexer": "ipython3",
   "version": "3.11.7"
  }
 },
 "nbformat": 4,
 "nbformat_minor": 2
}
