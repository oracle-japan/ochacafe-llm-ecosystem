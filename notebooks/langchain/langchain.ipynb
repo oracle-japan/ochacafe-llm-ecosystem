{
 "cells": [
  {
   "cell_type": "code",
   "execution_count": 1,
   "metadata": {},
   "outputs": [],
   "source": [
    "import os\n",
    "from dotenv import load_dotenv\n",
    "\n",
    "from langchain_community.chat_models.oci_generative_ai import ChatOCIGenAI"
   ]
  },
  {
   "cell_type": "markdown",
   "metadata": {},
   "source": [
    "テキスト生成 - ストリーミング"
   ]
  },
  {
   "cell_type": "code",
   "execution_count": 2,
   "metadata": {},
   "outputs": [
    {
     "name": "stdout",
     "output_type": "stream",
     "text": [
      "servce endpoint:  https://inference.generativeai.us-chicago-1.oci.oraclecloud.com\n",
      "compartment id:  ocid1.compartment.oc1..aaaaaaaanjtbllhqxcg67dq7em3vto2mvsbc6pbgk4pw6cx37afzk3tngmoa\n"
     ]
    }
   ],
   "source": [
    "_ = load_dotenv()\n",
    "compartment_id = os.getenv(\"COMPARTMENT_ID\")\n",
    "service_endpoint = os.getenv(\"GENAI_ENDPOINT\")\n",
    "\n",
    "print(\"servce endpoint: \", service_endpoint)\n",
    "print(\"compartment id: \", compartment_id)"
   ]
  },
  {
   "cell_type": "code",
   "execution_count": 13,
   "metadata": {},
   "outputs": [],
   "source": [
    "chat = ChatOCIGenAI(\n",
    "    auth_type=\"INSTANCE_PRINCIPAL\",\n",
    "    service_endpoint=service_endpoint,\n",
    "    compartment_id=compartment_id,\n",
    "    model_id=\"cohere.command-r-plus\",\n",
    "    is_stream=True,\n",
    "    model_kwargs={\n",
    "        \"temperature\": 0,\n",
    "        \"max_tokens\": 500,\n",
    "        \"top_p\": 0.75,\n",
    "        \"top_k\": 0,\n",
    "        \"frequency_penalty\": 0,\n",
    "        \"presence_penalty\": 0\n",
    "    }\n",
    ")"
   ]
  },
  {
   "cell_type": "code",
   "execution_count": 14,
   "metadata": {},
   "outputs": [
    {
     "name": "stdout",
     "output_type": "stream",
     "text": [
      "OCHaCafe（オチャカフェ）は、オンライン茶道体験を提供する日本のスタートアップ企業です。茶道は日本の伝統的な文化の一つで、茶を点てて飲む儀式的な実践です。\n",
      "\n",
      "OCHaCafe は、世界中の人々が日本の茶道の美しさと奥深さを発見できるようにすることを使命としています。彼らは、参加者が茶道の基本を学び、伝統的な茶室の雰囲気を体験できるインタラクティブで没入型のあるオンライン セッションを提供します。\n",
      "\n",
      "OCHaCafe のセッションでは、参加者は茶道の起源、儀式、茶の準備と提供の方法など、茶道の歴史と文化について学びます。また、茶道の精神的な側面と、それが日本の文化と美学にどのように組み込まれているかについても説明します。\n",
      "\n",
      "セッションは通常、ライブ ビデオ ストリーミングを介して行われ、参加者は茶道の専門家やインストラクターとやり取りし、質問し、リアルタイムで指導を受けることができます。セッション中には、茶道のさまざまな側面を体験できる実践的な演習も含まれます。\n",
      "\n",
      "OCHaCafe は、人々が自宅や世界中のどこからでも日本の伝統文化に触れることができるようにすることで、茶道の芸術と実践をよりアクセスしやすくすることを目指しています。彼らのプラットフォームは、文化交流、学習、そしてユニークな日本の体験を求める人々のためのコミュニティの構築を目的としています。\n",
      "\n",
      "OCHaCafe についての詳細は、彼らのウェブサイトまたはソーシャル メディア プラットフォームをご覧ください。そこでは、提供されるさまざまなセッション、スケジュール、参加方法に関する情報を見つけることができます。"
     ]
    }
   ],
   "source": [
    "res = chat.stream(\n",
    "    \"OCHaCafeってなんですか？\"\n",
    ")\n",
    "\n",
    "for chunk in res:\n",
    "    print(chunk.content, end=\"\")"
   ]
  },
  {
   "cell_type": "markdown",
   "metadata": {},
   "source": [
    "エンベディング"
   ]
  },
  {
   "cell_type": "code",
   "execution_count": 15,
   "metadata": {},
   "outputs": [],
   "source": [
    "from langchain_community.embeddings.oci_generative_ai import OCIGenAIEmbeddings"
   ]
  },
  {
   "cell_type": "code",
   "execution_count": 16,
   "metadata": {},
   "outputs": [],
   "source": [
    "embeddings = OCIGenAIEmbeddings(\n",
    "    auth_type=\"INSTANCE_PRINCIPAL\",\n",
    "    model_id=\"cohere.embed-multilingual-v3.0\",\n",
    "    service_endpoint=service_endpoint,\n",
    "    compartment_id=compartment_id\n",
    ")"
   ]
  },
  {
   "cell_type": "code",
   "execution_count": 18,
   "metadata": {},
   "outputs": [
    {
     "name": "stdout",
     "output_type": "stream",
     "text": [
      "Dims:  1024\n"
     ]
    }
   ],
   "source": [
    "docs = [\n",
    "    \"「Oracle Cloud Hangout Cafe」(通称「おちゃかふぇ」/以降、OCHaCafe)は、日本オラクルが主催するコミュニティの1つです。定期的に、開発者・エンジニアに向けたクラウドネイティブな時代に身につけておくべきテクノロジーを深堀する勉強会を開催しています。\",\n",
    "    \"日本オラクル株式会社（にほんオラクル、英: Oracle Corporation Japan）は、米国企業オラクルコーポレーション (Oracle Corporation) （1977年設立）が、1985年に日本で設立した法人である。\"\n",
    "]\n",
    "\n",
    "res = embeddings.embed_documents(docs)\n",
    "\n",
    "print(\"Dims: \", len(res[0]))"
   ]
  }
 ],
 "metadata": {
  "kernelspec": {
   "display_name": ".venv",
   "language": "python",
   "name": "python3"
  },
  "language_info": {
   "codemirror_mode": {
    "name": "ipython",
    "version": 3
   },
   "file_extension": ".py",
   "mimetype": "text/x-python",
   "name": "python",
   "nbconvert_exporter": "python",
   "pygments_lexer": "ipython3",
   "version": "3.11.7"
  }
 },
 "nbformat": 4,
 "nbformat_minor": 2
}
