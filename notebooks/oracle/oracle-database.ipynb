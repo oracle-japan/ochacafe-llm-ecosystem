{
 "cells": [
  {
   "cell_type": "code",
   "execution_count": 10,
   "metadata": {},
   "outputs": [],
   "source": [
    "import os\n",
    "from dotenv import load_dotenv\n",
    "\n",
    "from langchain_core.documents import Document\n",
    "from langchain_community.embeddings.oci_generative_ai import OCIGenAIEmbeddings\n",
    "from langchain_community.vectorstores.oraclevs import OracleVS\n",
    "\n",
    "from langchain_community.vectorstores.utils import (\n",
    "    DistanceStrategy,\n",
    ")\n",
    "\n",
    "import oracledb"
   ]
  },
  {
   "cell_type": "code",
   "execution_count": 11,
   "metadata": {},
   "outputs": [],
   "source": [
    "_ = load_dotenv()\n",
    "un = os.getenv(\"ORACLE_USERNAME\")\n",
    "pw = os.getenv(\"ORACLE_PASSWORD\")\n",
    "dsn = os.getenv(\"ORACLE_DSN\")\n",
    "config_dir = \"/tmp/wallet\"\n",
    "wallet_location = \"/tmp/wallet\"\n",
    "wallet_password = os.getenv(\"WALLET_PASSWORD\")\n",
    "\n",
    "compartment_id = os.getenv(\"COMPARTMENT_ID\")\n",
    "service_endpoint = os.getenv(\"GENAI_ENDPOINT\")"
   ]
  },
  {
   "cell_type": "code",
   "execution_count": 12,
   "metadata": {},
   "outputs": [],
   "source": [
    "embeddings = OCIGenAIEmbeddings(\n",
    "    auth_type=\"INSTANCE_PRINCIPAL\",\n",
    "    model_id=\"cohere.embed-multilingual-v3.0\",\n",
    "    service_endpoint=service_endpoint,\n",
    "    compartment_id=compartment_id,\n",
    ")"
   ]
  },
  {
   "cell_type": "code",
   "execution_count": 18,
   "metadata": {},
   "outputs": [],
   "source": [
    "texts_1 = [\n",
    "    \"人工知能は1956年に学問分野として設立されました。\",\n",
    "    \"アラン・チューリングは人工知能の研究を大規模に行った最初の人物です。\",\n",
    "    \"ロンドンのマイダ・ベールで生まれたチューリングは、イングランド南部で育ちました。\",\n",
    "]\n",
    "\n",
    "texts_2 = [\n",
    "    \"機械学習は薬の設計に使用されています。\",\n",
    "    \"AIアルゴリズムを用いた計算合成は分子の特性を予測します。\",\n",
    "    \"DDR1は癌や線維症に関与しています。\"\n",
    "]"
   ]
  },
  {
   "cell_type": "code",
   "execution_count": 20,
   "metadata": {},
   "outputs": [],
   "source": [
    "with oracledb.connect(user=un, password=pw, dsn=dsn, config_dir=config_dir, wallet_location=wallet_location, wallet_password=wallet_password) as connection:\n",
    "    oracle_vs = OracleVS(\n",
    "        client=connection,\n",
    "        embedding_function=embeddings,\n",
    "        table_name=\"DEMO\",\n",
    "        distance_strategy=DistanceStrategy.COSINE,\n",
    "        query=\"What is a Oracle Database\"\n",
    "    )\n",
    "    oracle_vs.add_texts(\n",
    "        texts=texts_1,\n",
    "        metadatas=[\n",
    "            {\"subject\": \"history\"}\n",
    "        ]\n",
    "    )\n",
    "    oracle_vs.add_texts(\n",
    "        texts=texts_2,\n",
    "        metadatas=[\n",
    "            {\"subject\": \"biology\"}\n",
    "        ]\n",
    "    )"
   ]
  }
 ],
 "metadata": {
  "kernelspec": {
   "display_name": ".venv",
   "language": "python",
   "name": "python3"
  },
  "language_info": {
   "codemirror_mode": {
    "name": "ipython",
    "version": 3
   },
   "file_extension": ".py",
   "mimetype": "text/x-python",
   "name": "python",
   "nbconvert_exporter": "python",
   "pygments_lexer": "ipython3",
   "version": "3.11.7"
  }
 },
 "nbformat": 4,
 "nbformat_minor": 2
}
