{
 "cells": [
  {
   "cell_type": "code",
   "execution_count": null,
   "metadata": {},
   "outputs": [],
   "source": [
    "import os\n",
    "from dotenv import load_dotenv\n",
    "import array\n",
    "\n",
    "from langchain_community.embeddings.oci_generative_ai import OCIGenAIEmbeddings\n",
    "\n",
    "import oracledb"
   ]
  },
  {
   "cell_type": "code",
   "execution_count": null,
   "metadata": {},
   "outputs": [],
   "source": [
    "_ = load_dotenv()\n",
    "un = os.getenv(\"ORACLE_USERNAME\")\n",
    "pw = os.getenv(\"ORACLE_PASSWORD\")\n",
    "dsn = os.getenv(\"ORACLE_DSN\")\n",
    "config_dir = \"/tmp/wallet\"\n",
    "wallet_location = \"/tmp/wallet\"\n",
    "wallet_password = os.getenv(\"WALLET_PASSWORD\")\n",
    "\n",
    "compartment_id = os.getenv(\"COMPARTMENT_ID\")\n",
    "service_endpoint = os.getenv(\"GENAI_ENDPOINT\")"
   ]
  },
  {
   "cell_type": "code",
   "execution_count": null,
   "metadata": {},
   "outputs": [],
   "source": [
    "embeddings = OCIGenAIEmbeddings(\n",
    "    auth_type=\"INSTANCE_PRINCIPAL\",\n",
    "    model_id=\"cohere.embed-multilingual-v3.0\",\n",
    "    service_endpoint=service_endpoint,\n",
    "    compartment_id=compartment_id,\n",
    ")"
   ]
  },
  {
   "cell_type": "code",
   "execution_count": null,
   "metadata": {},
   "outputs": [],
   "source": [
    "with oracledb.connect(user=un, password=pw, dsn=dsn,\n",
    "                      config_dir=config_dir, wallet_location=wallet_location,\n",
    "                      wallet_password=wallet_password) as connection:\n",
    "    with connection.cursor() as cursor:\n",
    "        create_table_sql = \"\"\"\n",
    "            CREATE TABLE IF NOT EXISTS DEMO (\n",
    "                ID NUMBER PRIMARY KEY,\n",
    "                TEXT CLOB,\n",
    "                VECTOR VECTOR(1024)\n",
    "            )\n",
    "        \"\"\"\n",
    "        cursor.execute(statement=create_table_sql)"
   ]
  },
  {
   "cell_type": "code",
   "execution_count": null,
   "metadata": {},
   "outputs": [],
   "source": [
    "docs = [\n",
    "    \"人工知能は1956年に学問分野として設立されました。\",\n",
    "    \"アラン・チューリングは人工知能の研究を大規模に行った最初の人物です。\",\n",
    "    \"ロンドンのマイダ・ベールで生まれたチューリングは、イングランド南部で育ちました。\",\n",
    "]"
   ]
  },
  {
   "cell_type": "code",
   "execution_count": null,
   "metadata": {},
   "outputs": [],
   "source": [
    "vectors = embeddings.embed_documents(texts=docs)\n",
    "print(vectors)\n",
    "data = [\n",
    "    {\"id\": i, \"text\": docs[i], \"vector\": array.array(\"f\", vectors[i])}\n",
    "    for i in range(len(vectors))\n",
    "]\n",
    "\n",
    "print(data[0])\n",
    "print(\"Vector Dims:\", len(data[0][\"vector\"]))"
   ]
  },
  {
   "cell_type": "code",
   "execution_count": null,
   "metadata": {},
   "outputs": [],
   "source": [
    "with oracledb.connect(user=un, password=pw, dsn=dsn, config_dir=config_dir, wallet_location=wallet_location, wallet_password=wallet_password) as connection:\n",
    "    with connection.cursor() as cursor:\n",
    "        insert_data_sql = \"\"\"\n",
    "            INSERT INTO DEMO (\n",
    "                ID,\n",
    "                TEXT,\n",
    "                VECTOR\n",
    "            ) VALUES (\n",
    "                :id,\n",
    "                :text,\n",
    "                :vector\n",
    "            )\n",
    "        \"\"\"\n",
    "        cursor.executemany(statement=insert_data_sql, parameters=data)\n",
    "    connection.commit()"
   ]
  },
  {
   "cell_type": "code",
   "execution_count": null,
   "metadata": {},
   "outputs": [],
   "source": [
    "def output_type_handler(cursor, metadata):\n",
    "    if metadata.type_code is oracledb.DB_TYPE_VECTOR:\n",
    "        return cursor.var(metadata.type_code, arraysize=cursor.arraysize, outconverter=list)"
   ]
  },
  {
   "cell_type": "code",
   "execution_count": null,
   "metadata": {},
   "outputs": [],
   "source": [
    "oracledb.defaults.fetch_lobs = False\n",
    "with oracledb.connect(user=un, password=pw, dsn=dsn, config_dir=config_dir, wallet_location=wallet_location, wallet_password=wallet_password) as connection:\n",
    "    connection.outputtypehandler = output_type_handler\n",
    "    with connection.cursor() as cursor:\n",
    "        cursor.execute(statement=\"SELECT * FROM DEMO\")\n",
    "        for row in cursor.fetchall():\n",
    "            print(\"row:\", row)"
   ]
  },
  {
   "cell_type": "code",
   "execution_count": null,
   "metadata": {},
   "outputs": [],
   "source": [
    "query_vector = embeddings.embed_query(\"アラン・チューリングはだれですか？\")\n",
    "parameters = {\"query_vector\": array.array(\"f\", query_vector)}\n",
    "oracledb.defaults.fetch_lobs = False\n",
    "with oracledb.connect(user=un, password=pw, dsn=dsn,\n",
    "                      config_dir=config_dir, wallet_location=wallet_location,\n",
    "                      wallet_password=wallet_password) as connection:\n",
    "    connection.outputtypehandler = output_type_handler\n",
    "    with connection.cursor() as cursor:\n",
    "        vector_search_sql = \"\"\"\n",
    "            SELECT\n",
    "                ID, TEXT\n",
    "            FROM\n",
    "                DEMO\n",
    "            ORDER BY\n",
    "                VECTOR_DISTANCE(:query_vector, VECTOR)\n",
    "            FETCH FIRST 2 ROWS ONLY\n",
    "        \"\"\"\n",
    "        cursor.execute(statement=vector_search_sql, parameters=parameters)\n",
    "        for row in cursor.fetchall():\n",
    "            print(\"row:\", row)"
   ]
  }
 ],
 "metadata": {
  "kernelspec": {
   "display_name": ".venv",
   "language": "python",
   "name": "python3"
  },
  "language_info": {
   "codemirror_mode": {
    "name": "ipython",
    "version": 3
   },
   "file_extension": ".py",
   "mimetype": "text/x-python",
   "name": "python",
   "nbconvert_exporter": "python",
   "pygments_lexer": "ipython3",
   "version": "3.11.7"
  }
 },
 "nbformat": 4,
 "nbformat_minor": 2
}
