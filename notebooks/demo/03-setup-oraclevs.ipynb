{
 "cells": [
  {
   "cell_type": "code",
   "execution_count": 1,
   "metadata": {},
   "outputs": [],
   "source": [
    "import glob\n",
    "import os\n",
    "from dotenv import load_dotenv\n",
    "\n",
    "from langchain_community.embeddings.oci_generative_ai import OCIGenAIEmbeddings\n",
    "from langchain_community.vectorstores.oraclevs import OracleVS\n",
    "from langchain_community.vectorstores.utils import DistanceStrategy\n",
    "from langchain_community.document_loaders.oracleai import OracleTextSplitter\n",
    "\n",
    "import oracledb"
   ]
  },
  {
   "cell_type": "code",
   "execution_count": 2,
   "metadata": {},
   "outputs": [],
   "source": [
    "_ = load_dotenv()\n",
    "un = os.getenv(\"ORACLE_USERNAME\")\n",
    "pw = os.getenv(\"ORACLE_PASSWORD\")\n",
    "dsn = os.getenv(\"ORACLE_DSN\")\n",
    "config_dir = \"/tmp/wallet\"\n",
    "wallet_location = \"/tmp/wallet\"\n",
    "wallet_password = os.getenv(\"WALLET_PASSWORD\")\n",
    "\n",
    "compartment_id = os.getenv(\"COMPARTMENT_ID\")\n",
    "service_endpoint = os.getenv(\"GENAI_ENDPOINT\")"
   ]
  },
  {
   "cell_type": "code",
   "execution_count": 3,
   "metadata": {},
   "outputs": [],
   "source": [
    "embeddings = OCIGenAIEmbeddings(\n",
    "    auth_type=\"INSTANCE_PRINCIPAL\",\n",
    "    model_id=\"cohere.embed-multilingual-v3.0\",\n",
    "    service_endpoint=service_endpoint,\n",
    "    compartment_id=compartment_id,\n",
    ")"
   ]
  },
  {
   "cell_type": "code",
   "execution_count": null,
   "metadata": {},
   "outputs": [],
   "source": [
    "with oracledb.connect(user=un, password=pw, dsn=dsn, config_dir=config_dir, wallet_location=wallet_location, wallet_password=wallet_password) as connection:\n",
    "    oracle_vs = OracleVS(\n",
    "        client=connection,\n",
    "        embedding_function=embeddings,\n",
    "        table_name=\"THINKIT\",\n",
    "        distance_strategy=DistanceStrategy.COSINE,\n",
    "        query=\"What is a Oracle Database\"\n",
    "    )\n",
    "    splitter_params = {\"split\": \"recursively\", \"max\": 100, \"by\": \"words\", \"overlap\": 10, \"normalize\": \"all\"}\n",
    "    splitter = OracleTextSplitter(conn=connection, params=splitter_params)\n",
    "    files = glob.glob(\"../../data/text/*.txt\")\n",
    "    \n",
    "    for file in files:\n",
    "        title = file.title().strip(\"../../Data/Text/\")\n",
    "        with open(file) as f:\n",
    "            content = f.read()\n",
    "            chunks = splitter.split_text(text=content)\n",
    "            oracle_vs.add_texts(\n",
    "                texts=chunks,\n",
    "                metadatas=[\n",
    "                    {\"event\": \"ochacafe\", \"title\": title}\n",
    "                    for _ in range(len(chunks))\n",
    "                ] \n",
    "            )"
   ]
  }
 ],
 "metadata": {
  "kernelspec": {
   "display_name": ".venv",
   "language": "python",
   "name": "python3"
  },
  "language_info": {
   "codemirror_mode": {
    "name": "ipython",
    "version": 3
   },
   "file_extension": ".py",
   "mimetype": "text/x-python",
   "name": "python",
   "nbconvert_exporter": "python",
   "pygments_lexer": "ipython3",
   "version": "3.11.7"
  }
 },
 "nbformat": 4,
 "nbformat_minor": 2
}
